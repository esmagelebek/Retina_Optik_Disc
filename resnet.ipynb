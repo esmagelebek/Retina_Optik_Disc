{
 "cells": [
  {
   "cell_type": "code",
   "execution_count": 1,
   "metadata": {},
   "outputs": [],
   "source": [
    "# import system libs\n",
    "# import os\n",
    "# import cv2\n",
    "# import numpy as np\n",
    "# import pandas as pd\n",
    "# import seaborn as sns\n",
    "# import random\n",
    "# import matplotlib.pyplot as plt\n",
    "# from sklearn.model_selection import train_test_split\n",
    "# from sklearn.metrics import confusion_matrix, classification_report\n",
    "# import tensorflow as tf\n",
    "# from tensorflow.keras.models import Sequential\n",
    "# from tensorflow.keras.preprocessing.image import ImageDataGenerator\n",
    "# from tensorflow.keras.layers import Conv2D, MaxPooling2D, Flatten, Dense, Activation, Dropout, BatchNormalization\n",
    "# from tensorflow.keras.utils import image_dataset_from_directory\n",
    "\n",
    "import os\n",
    "import cv2\n",
    "import numpy as np\n",
    "import pandas as pd\n",
    "import seaborn as sns\n",
    "import random\n",
    "import matplotlib.pyplot as plt\n",
    "from sklearn.model_selection import train_test_split\n",
    "from sklearn.metrics import confusion_matrix, classification_report\n",
    "import tensorflow as tf\n",
    "from tensorflow.python.keras.models import Sequential\n",
    "from keras.src.legacy.preprocessing.image import ImageDataGenerator\n",
    "from keras.src.layers import Conv2D, MaxPooling2D, Flatten, Dense, Activation, Dropout, BatchNormalization\n",
    "from keras.src.utils import image_dataset_from_directory\n",
    "from PIL import Image\n",
    "\n"
   ]
  },
  {
   "cell_type": "code",
   "execution_count": 2,
   "metadata": {},
   "outputs": [],
   "source": [
    "data_dir = \"C:\\\\Users\\\\hp\\\\PycharmProjects\\\\Retina_Optik_Disc\\\\retina_optic_disc\""
   ]
  },
  {
   "cell_type": "code",
   "execution_count": 3,
   "metadata": {},
   "outputs": [
    {
     "name": "stdout",
     "output_type": "stream",
     "text": [
      "Train Directory -->  ['healty', 'unhealty']\n",
      "Validation Directory -->  ['healty', 'unhealty']\n",
      "Test Directory -->  ['healty', 'unhealty']\n"
     ]
    }
   ],
   "source": [
    "train_dir = os.path.join(data_dir  + \"\\\\train\")\n",
    "print(\"Train Directory --> \", os.listdir(train_dir))\n",
    "\n",
    "validation_dir = os.path.join(data_dir  + \"\\\\val\")\n",
    "print(\"Validation Directory --> \", os.listdir(validation_dir))\n",
    "\n",
    "test_dir = os.path.join(data_dir  + \"\\\\test\")\n",
    "\n",
    "print(\"Test Directory --> \", os.listdir(test_dir))"
   ]
  },
  {
   "cell_type": "code",
   "execution_count": 5,
   "metadata": {},
   "outputs": [],
   "source": [
    "# data_dir = \"C:\\\\Users\\\\hp\\\\PycharmProjects\\\\Retina_Optik_Disc\\\\retina_optic_disc\"\n",
    "\n",
    "# def create_dataframe(data_path):\n",
    "#     filepaths = [] \n",
    "#     labels = [] \n",
    "\n",
    "#     # Ana klasördeki alt klasörleri (folds) listeleme\n",
    "#     folds = os.listdir(data_path)\n",
    "#     for fold in folds:\n",
    "#         # Alt klasördeki görüntülerin yollarını almak için yol oluşturma\n",
    "#         f_path = os.path.join(data_path, fold)\n",
    "#         imgs = os.listdir(f_path)  # Alt klasördeki görüntüleri listeleme\n",
    "\n",
    "#         # Her görüntü için dosya yolunu ve sınıf etiketini ekleme\n",
    "#         for img in imgs:\n",
    "#             img_path = os.path.join(f_path, img)  # Görselin tam dosya yolunu oluşturma\n",
    "#             filepaths.append(img_path)  # Görselin yolunu listeye ekleme\n",
    "#             labels.append(fold)         # Görselin etiketini listeye ekleme\n",
    "    \n",
    "#     # Dosya yolları ve etiketlerin pandas Series'e dönüştürülmesi\n",
    "#     fseries = pd.Series(filepaths, name='Filepaths')\n",
    "#     lseries = pd.Series(labels, name='Labels')\n",
    "\n",
    "#     # İki seriyi birleştirip bir DataFrame olarak döndürme\n",
    "#     return pd.concat([fseries, lseries], axis=1)\n",
    "\n",
    "# retina_df = create_dataframe(data_dir)"
   ]
  },
  {
   "cell_type": "code",
   "execution_count": 6,
   "metadata": {},
   "outputs": [],
   "source": [
    "# def prepare_image(folder, target=(124,124), quality=85):\n",
    "#     for file in os.listdir(folder):\n",
    "#         if file.endswith(\".jpeg\"):\n",
    "#             image_path = os.path.join(folder, file)\n",
    "#             with Image.open(image_path) as image:\n",
    "#                 resized_image = image.resize(target)\n",
    "#                 # Sıkıştırma seviyesini 85 olarak belirleyip kaydet\n",
    "#                 resized_image.save(image_path, quality=quality)\n",
    "\n",
    "# folder = \"C:\\\\Users\\\\hp\\\\PycharmProjects\\\\Retina_Optik_Disc\\\\retina_optic_disc\"\n",
    "# prepare_image(folder)"
   ]
  },
  {
   "cell_type": "code",
   "execution_count": 4,
   "metadata": {},
   "outputs": [
    {
     "name": "stdout",
     "output_type": "stream",
     "text": [
      "                                              Filepaths    Labels\n",
      "0     C:\\Users\\hp\\PycharmProjects\\Retina_Optik_Disc\\...    healty\n",
      "1     C:\\Users\\hp\\PycharmProjects\\Retina_Optik_Disc\\...    healty\n",
      "2     C:\\Users\\hp\\PycharmProjects\\Retina_Optik_Disc\\...    healty\n",
      "3     C:\\Users\\hp\\PycharmProjects\\Retina_Optik_Disc\\...    healty\n",
      "4     C:\\Users\\hp\\PycharmProjects\\Retina_Optik_Disc\\...    healty\n",
      "...                                                 ...       ...\n",
      "5354  C:\\Users\\hp\\PycharmProjects\\Retina_Optik_Disc\\...  unhealty\n",
      "5355  C:\\Users\\hp\\PycharmProjects\\Retina_Optik_Disc\\...  unhealty\n",
      "5356  C:\\Users\\hp\\PycharmProjects\\Retina_Optik_Disc\\...  unhealty\n",
      "5357  C:\\Users\\hp\\PycharmProjects\\Retina_Optik_Disc\\...  unhealty\n",
      "5358  C:\\Users\\hp\\PycharmProjects\\Retina_Optik_Disc\\...  unhealty\n",
      "\n",
      "[5359 rows x 2 columns]\n",
      "                                              Filepaths    Labels\n",
      "0     C:\\Users\\hp\\PycharmProjects\\Retina_Optik_Disc\\...    healty\n",
      "1     C:\\Users\\hp\\PycharmProjects\\Retina_Optik_Disc\\...    healty\n",
      "2     C:\\Users\\hp\\PycharmProjects\\Retina_Optik_Disc\\...    healty\n",
      "3     C:\\Users\\hp\\PycharmProjects\\Retina_Optik_Disc\\...    healty\n",
      "4     C:\\Users\\hp\\PycharmProjects\\Retina_Optik_Disc\\...    healty\n",
      "...                                                 ...       ...\n",
      "1310  C:\\Users\\hp\\PycharmProjects\\Retina_Optik_Disc\\...  unhealty\n",
      "1311  C:\\Users\\hp\\PycharmProjects\\Retina_Optik_Disc\\...  unhealty\n",
      "1312  C:\\Users\\hp\\PycharmProjects\\Retina_Optik_Disc\\...  unhealty\n",
      "1313  C:\\Users\\hp\\PycharmProjects\\Retina_Optik_Disc\\...  unhealty\n",
      "1314  C:\\Users\\hp\\PycharmProjects\\Retina_Optik_Disc\\...  unhealty\n",
      "\n",
      "[1315 rows x 2 columns]\n",
      "                                             Filepaths    Labels\n",
      "0    C:\\Users\\hp\\PycharmProjects\\Retina_Optik_Disc\\...    healty\n",
      "1    C:\\Users\\hp\\PycharmProjects\\Retina_Optik_Disc\\...    healty\n",
      "2    C:\\Users\\hp\\PycharmProjects\\Retina_Optik_Disc\\...    healty\n",
      "3    C:\\Users\\hp\\PycharmProjects\\Retina_Optik_Disc\\...    healty\n",
      "4    C:\\Users\\hp\\PycharmProjects\\Retina_Optik_Disc\\...    healty\n",
      "..                                                 ...       ...\n",
      "460  C:\\Users\\hp\\PycharmProjects\\Retina_Optik_Disc\\...  unhealty\n",
      "461  C:\\Users\\hp\\PycharmProjects\\Retina_Optik_Disc\\...  unhealty\n",
      "462  C:\\Users\\hp\\PycharmProjects\\Retina_Optik_Disc\\...  unhealty\n",
      "463  C:\\Users\\hp\\PycharmProjects\\Retina_Optik_Disc\\...  unhealty\n",
      "464  C:\\Users\\hp\\PycharmProjects\\Retina_Optik_Disc\\...  unhealty\n",
      "\n",
      "[465 rows x 2 columns]\n"
     ]
    }
   ],
   "source": [
    "def create_dataframe(data_path):\n",
    "    filepaths = []\n",
    "    labels = []\n",
    "\n",
    "    # Ana klasördeki alt klasörleri (folds) listeleme\n",
    "    folds = os.listdir(data_path)\n",
    "    for fold in folds:\n",
    "        # Alt klasördeki görüntülerin yollarını almak için yol oluşturma\n",
    "        f_path = os.path.join(data_path, fold)\n",
    "        imgs = os.listdir(f_path)  # Alt klasördeki görüntüleri listeleme\n",
    "\n",
    "        # Her görüntü için dosya yolunu ve sınıf etiketini ekleme\n",
    "        for img in imgs:\n",
    "            img_path = os.path.join(f_path, img)  # Görselin tam dosya yolunu oluşturma\n",
    "            filepaths.append(img_path)  # Görselin yolunu listeye ekleme\n",
    "            labels.append(fold)  # Görselin etiketini listeye ekleme\n",
    "\n",
    "    # Dosya yolları ve etiketlerin pandas Series'e dönüştürülmesi\n",
    "    fseries = pd.Series(filepaths, name='Filepaths')\n",
    "    lseries = pd.Series(labels, name='Labels')\n",
    "\n",
    "    # İki seriyi birleştirip bir DataFrame olarak döndürme\n",
    "    return pd.concat([fseries, lseries], axis=1)\n",
    "\n",
    "\n",
    "train_retina_df = create_dataframe(train_dir)\n",
    "test_retina_df = create_dataframe(test_dir)\n",
    "validation_retina_df = create_dataframe(validation_dir)\n",
    "\n",
    "print(train_retina_df)\n",
    "print(test_retina_df)\n",
    "print(validation_retina_df)"
   ]
  }
 ],
 "metadata": {
  "kernelspec": {
   "display_name": ".venv",
   "language": "python",
   "name": "python3"
  },
  "language_info": {
   "codemirror_mode": {
    "name": "ipython",
    "version": 3
   },
   "file_extension": ".py",
   "mimetype": "text/x-python",
   "name": "python",
   "nbconvert_exporter": "python",
   "pygments_lexer": "ipython3",
   "version": "3.12.2"
  }
 },
 "nbformat": 4,
 "nbformat_minor": 2
}
