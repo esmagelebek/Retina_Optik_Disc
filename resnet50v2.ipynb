{
 "cells": [
  {
   "cell_type": "code",
   "execution_count": null,
   "metadata": {
    "vscode": {
     "languageId": "plaintext"
    }
   },
   "outputs": [],
   "source": [
    "#Zip dosyasında bulunan veri setini okuma\n",
    "import zipfile\n",
    "import os\n",
    "\n",
    "zip_file = \"/content/drive/MyDrive/retina_optic_disc.zip\"\n",
    "new_file_name = \"retina_optik\"\n",
    "\n",
    "os.makedirs(new_file_name,exist_ok=True)\n",
    "\n",
    "with zipfile.ZipFile(zip_file,\"r\") as zip_fol:\n",
    "  zip_fol.extractall(new_file_name)"
   ]
  },
  {
   "cell_type": "code",
   "execution_count": null,
   "metadata": {
    "vscode": {
     "languageId": "plaintext"
    }
   },
   "outputs": [],
   "source": [
    "#Gerekli Kütüphanelerin Yüklenmesi\n",
    "import cv2\n",
    "import numpy as np\n",
    "import seaborn as sns\n",
    "import random\n",
    "import matplotlib.pyplot as plt\n",
    "from sklearn.model_selection import train_test_split\n",
    "from sklearn.metrics import confusion_matrix, classification_report\n",
    "from PIL import Image"
   ]
  },
  {
   "cell_type": "code",
   "execution_count": null,
   "metadata": {
    "vscode": {
     "languageId": "plaintext"
    }
   },
   "outputs": [],
   "source": [
    "#Verilerin bulunduğu dosya yolunun verilmesi\n",
    "data_dir = \"//content//retina_optik//retina_optic_disc\""
   ]
  },
  {
   "cell_type": "code",
   "execution_count": null,
   "metadata": {
    "vscode": {
     "languageId": "plaintext"
    }
   },
   "outputs": [],
   "source": [
    "import os\n",
    "train_dir = os.path.join(data_dir  + \"/train\")\n",
    "print(\"Train Directory --> \", os.listdir(train_dir))\n",
    "\n",
    "validation_dir = os.path.join(data_dir  + \"/val\")\n",
    "print(\"Validation Directory --> \", os.listdir(validation_dir))\n",
    "\n",
    "test_dir = os.path.join(data_dir  + \"/test\")\n",
    "print(\"Test Directory --> \", os.listdir(test_dir))"
   ]
  },
  {
   "cell_type": "code",
   "execution_count": null,
   "metadata": {
    "vscode": {
     "languageId": "plaintext"
    }
   },
   "outputs": [],
   "source": [
    "import pandas as pd\n",
    "\n",
    "\n",
    "def create_dataframe(data_path):\n",
    "    filepaths = []\n",
    "    labels = []\n",
    "\n",
    "    # Ana klasördeki alt klasörleri  listeleme\n",
    "    folds = os.listdir(data_path)\n",
    "    for fold in folds:\n",
    "        # Alt klasördeki görüntülerin yollarını almak için yol oluşturma\n",
    "        f_path = os.path.join(data_path, fold)\n",
    "        imgs = os.listdir(f_path)  # Alt klasördeki görüntüleri listeleme\n",
    "\n",
    "        # Her görüntü için dosya yolunu ve sınıf etiketini ekleme\n",
    "        for img in imgs:\n",
    "            img_path = os.path.join(f_path, img)  # Görselin tam dosya yolunu oluşturma\n",
    "            filepaths.append(img_path)  # Görselin yolunu listeye ekleme\n",
    "            labels.append(fold)  # Görselin etiketini listeye ekleme\n",
    "\n",
    "    \n",
    "    fseries = pd.Series(filepaths, name='Filepaths')\n",
    "    lseries = pd.Series(labels, name='Labels')\n",
    "\n",
    "    # İki seriyi birleştirip bir DataFrame olarak döndürme\n",
    "    return pd.concat([fseries, lseries], axis=1)\n",
    "\n",
    "\n",
    "train_retina_df = create_dataframe(train_dir)\n",
    "test_retina_df = create_dataframe(test_dir)\n",
    "validation_retina_df = create_dataframe(validation_dir)\n",
    "\n",
    "print(train_retina_df)\n",
    "print(test_retina_df)\n",
    "print(validation_retina_df)"
   ]
  },
  {
   "cell_type": "code",
   "execution_count": null,
   "metadata": {
    "vscode": {
     "languageId": "plaintext"
    }
   },
   "outputs": [],
   "source": [
    "final_train_df=pd.concat([train_retina_df],ignore_index=True)\n",
    "print(final_train_df)\n",
    "final_test_df = pd.concat([test_retina_df],ignore_index=True)\n",
    "print(final_test_df)\n",
    "final_validation_df=pd.concat([validation_retina_df],ignore_index=True)\n",
    "print(final_validation_df)"
   ]
  },
  {
   "cell_type": "code",
   "execution_count": null,
   "metadata": {
    "vscode": {
     "languageId": "plaintext"
    }
   },
   "outputs": [],
   "source": [
    "import tensorflow as tf\n",
    "from tensorflow.python.keras.models import Sequential\n",
    "from keras.src.legacy.preprocessing.image import ImageDataGenerator\n",
    "from keras.src.layers import Conv2D, MaxPooling2D, Flatten, Dense, Activation, Dropout, BatchNormalization\n",
    "from keras.src.utils import image_dataset_from_directory\n",
    "\n",
    "# ResNet50 modelini oluşturur ve yapılandırır.\n",
    "resnet_50 = tf.keras.applications.ResNet50(\n",
    "    include_top=False,       \n",
    "    weights='imagenet',      \n",
    "    input_tensor=None,      \n",
    "    input_shape=(224, 224, 3),  \n",
    "    pooling=None,           \n",
    "    classes=1000            \n",
    ")\n",
    "\n",
    "train_datagen = ImageDataGenerator(\n",
    "    rescale=1./255,              \n",
    "    rotation_range=20,           \n",
    "    width_shift_range=0.2,     \n",
    "    height_shift_range=0.2,      \n",
    "    shear_range=0.2,             \n",
    "    zoom_range=0.2,              \n",
    "    horizontal_flip=True,        \n",
    "    fill_mode='nearest'\n",
    ")\n",
    "\n",
    "\n",
    "valid_datagen = ImageDataGenerator(rescale=1./255) \n",
    "test_datagen = ImageDataGenerator(rescale=1./255)   \n",
    "\n",
    "\n",
    "train_generator = train_datagen.flow_from_dataframe(\n",
    "    dataframe=final_train_df,           \n",
    "    x_col='Filepaths',            \n",
    "    y_col='Labels',               \n",
    "    class_mode='categorical',     \n",
    "    shuffle=True,                 \n",
    "    batch_size=32,                \n",
    "    seed=42                       \n",
    ")\n",
    "\n",
    "\n",
    "valid_generator = valid_datagen.flow_from_dataframe(\n",
    "    dataframe=final_validation_df,           \n",
    "    x_col='Filepaths',            \n",
    "    y_col='Labels',               \n",
    "    class_mode='categorical',    \n",
    "    shuffle=False,               \n",
    "    batch_size=32                \n",
    ")\n",
    "\n",
    "\n",
    "test_generator = test_datagen.flow_from_dataframe(\n",
    "    dataframe=final_test_df,            \n",
    "    x_col='Filepaths',            \n",
    "    y_col='Labels',               \n",
    "    class_mode='categorical',     \n",
    "    shuffle=False,                \n",
    "    batch_size=32                 \n",
    ")"
   ]
  },
  {
   "cell_type": "code",
   "execution_count": null,
   "metadata": {
    "vscode": {
     "languageId": "plaintext"
    }
   },
   "outputs": [],
   "source": [
    "import tensorflow as tf\n",
    "from tensorflow.keras.models import Sequential\n",
    "from tensorflow.keras.layers import Dense, Dropout, BatchNormalization, GlobalAveragePooling2D\n",
    "from tensorflow.keras.optimizers import Adam\n",
    "\n",
    "# ResNet50 modelini oluşturur ve yapılandırır\n",
    "base_model = tf.keras.applications.ResNet50V2(\n",
    "    weights='imagenet',          \n",
    "    include_top=False,           \n",
    "    input_shape=(224, 224, 3)    \n",
    ")\n",
    "\n",
    "# Modelin katmanlarını oluşturur\n",
    "model = Sequential([\n",
    "    base_model,                  # ResNet50 modelini ekler\n",
    "    GlobalAveragePooling2D(),    \n",
    "    Dense(512, activation='relu'),  \n",
    "    Dropout(0.3),                \n",
    "    Dense(4, activation='softmax')  \n",
    "])\n",
    "\n",
    "# Modelin derlenmesi\n",
    "model.compile(\n",
    "    optimizer=Adam(learning_rate=0.0001),  \n",
    "    loss='categorical_crossentropy',        # Çok sınıflı sınıflandırma için uygun olan categorical_crossentropy kaybı kullanılır\n",
    "    metrics=['accuracy']                    \n",
    ")\n",
    "\n",
    "train_datagen = ImageDataGenerator(\n",
    "    rescale=1./255,\n",
    "    rotation_range=20,\n",
    "    horizontal_flip=True,\n",
    "    fill_mode='nearest'\n",
    ")\n",
    "\n",
    "\n",
    "valid_datagen = ImageDataGenerator(rescale=1./255)\n",
    "\n",
    "\n",
    "train_generator = train_datagen.flow_from_dataframe(\n",
    "    dataframe=final_train_df,\n",
    "    x_col='Filepaths',\n",
    "    y_col='Labels',\n",
    "    target_size=(224, 224),\n",
    "    class_mode='categorical',\n",
    "    shuffle=True,\n",
    "    batch_size=32,\n",
    "    seed=42\n",
    ")\n",
    "\n",
    "\n",
    "valid_generator = valid_datagen.flow_from_dataframe(\n",
    "    dataframe=final_validation_df,\n",
    "    x_col='Filepaths',\n",
    "    y_col='Labels',\n",
    "    target_size=(224, 224),\n",
    "    class_mode='categorical',\n",
    "    shuffle=False,\n",
    "    batch_size=32\n",
    ")\n",
    "\n",
    "# Modelin eğitilmesi\n",
    "history = model.fit(\n",
    "    x=train_generator,                \n",
    "    validation_data=valid_generator,  \n",
    "    epochs=25,                        \n",
    "    verbose=1,                                                                    \n",
    "    shuffle=False,                    \n",
    "    validation_steps=None             \n",
    ")\n",
    "\n"
   ]
  },
  {
   "cell_type": "code",
   "execution_count": null,
   "metadata": {
    "vscode": {
     "languageId": "plaintext"
    }
   },
   "outputs": [],
   "source": [
    "# Modelin test klasöründeki veriler üzerinde değerlendirilmesi\n",
    "\n",
    "test_loss, test_accuracy = model.evaluate(test_generator)\n",
    "print('Test Accuracy:',test_accuracy)\n"
   ]
  },
  {
   "cell_type": "code",
   "execution_count": null,
   "metadata": {
    "vscode": {
     "languageId": "plaintext"
    }
   },
   "outputs": [],
   "source": [
    "# modelin eğitim sürecini ve doğrulama sürecini görselleştiren kod parçası\n",
    "import matplotlib.pyplot as plt\n",
    "\n",
    "def plot_training_history(history):\n",
    "   \n",
    "    tr_acc = history.history['accuracy']\n",
    "    tr_loss = history.history['loss']\n",
    "    val_acc = history.history['val_accuracy']\n",
    "    val_loss = history.history['val_loss']\n",
    "    epochs = [i + 1 for i in range(len(tr_acc))]\n",
    "\n",
    "    plt.figure(figsize=(20, 8))\n",
    "\n",
    "    \n",
    "    plt.subplot(1, 2, 1)\n",
    "    plt.plot(epochs, tr_loss, 'r', label='Eğitim Kaybı')\n",
    "    plt.plot(epochs, val_loss, 'g', label='Doğrulama Kaybı')\n",
    "    plt.title('Eğitim ve Doğrulama Kaybı')\n",
    "    plt.xlabel('Epoch')\n",
    "    plt.ylabel('Kayıp')\n",
    "    plt.legend()\n",
    "\n",
    "    \n",
    "    plt.subplot(1, 2, 2)\n",
    "    plt.plot(epochs, tr_acc, 'r', label='Eğitim Doğruluğu')\n",
    "    plt.plot(epochs, val_acc, 'g', label='Doğrulama Doğruluğu')\n",
    "    plt.title('Eğitim ve Doğrulama Doğruluğu')\n",
    "    plt.xlabel('Epoch')\n",
    "    plt.ylabel('Doğruluk')\n",
    "    plt.legend()\n",
    "\n",
    "    plt.tight_layout()\n",
    "    plt.show()\n",
    "\n",
    "# Eğitim sürecini görselleştirme fonksiyonunu çağırıyoruz\n",
    "plot_training_history(history)\n"
   ]
  },
  {
   "cell_type": "code",
   "execution_count": null,
   "metadata": {
    "vscode": {
     "languageId": "plaintext"
    }
   },
   "outputs": [],
   "source": [
    "import tensorflow as tf\n",
    "from tensorflow.keras.preprocessing.image import ImageDataGenerator\n",
    "import numpy as np\n",
    "import matplotlib.pyplot as plt\n",
    "import seaborn as sns\n",
    "from sklearn.metrics import confusion_matrix, classification_report\n",
    "\n",
    "test_datagen = ImageDataGenerator(rescale=1./255)\n",
    "\n",
    "\n",
    "test_generator = test_datagen.flow_from_directory(\n",
    "    '/content/retina_optik/retina_optic_disc/test',  # Test veri seti klasörünün yolu\n",
    "    target_size=(224, 224),\n",
    "    batch_size=32,\n",
    "    class_mode='categorical',\n",
    "    shuffle=False\n",
    ")\n",
    "\n",
    "# Girdi veri şeklini kontrol etme\n",
    "for data_batch, labels_batch in test_generator:\n",
    "    print(f\"Data batch shape: {data_batch.shape}\")\n",
    "    print(f\"Labels batch shape: {labels_batch.shape}\")\n",
    "    break  # Bir batch'i kontrol ettikten sonra döngüden çık\n",
    "\n",
    "\n",
    "# Test verileriyle tahmin yap\n",
    "y_pred = model.predict(test_generator)\n",
    "y_pred_classes = np.argmax(y_pred, axis=1)\n",
    "y_true = test_generator.classes\n",
    "\n",
    "# Karmaşıklık matrisi\n",
    "conf_matrix = confusion_matrix(y_true, y_pred_classes)\n",
    "plt.figure(figsize=(8, 6))\n",
    "sns.heatmap(conf_matrix, annot=True, fmt='d', cmap='Blues',\n",
    "            xticklabels=test_generator.class_indices.keys(),\n",
    "            yticklabels=test_generator.class_indices.keys())\n",
    "plt.title('Confusion Matrix')\n",
    "plt.xlabel('Tahmin Edilen Etiketler')\n",
    "plt.ylabel('Gerçek Etiketler')\n",
    "plt.show()\n",
    "\n",
    "# Sınıflandırma raporu\n",
    "class_report = classification_report(y_true, y_pred_classes, target_names=test_generator.class_indices.keys())\n",
    "print(\"Sınıflandırma Raporu:\")\n",
    "print(class_report)\n"
   ]
  },
  {
   "cell_type": "code",
   "execution_count": null,
   "metadata": {
    "vscode": {
     "languageId": "plaintext"
    }
   },
   "outputs": [],
   "source": [
    "import cv2\n",
    "import numpy as np\n",
    "import matplotlib.pyplot as plt\n",
    "import os\n",
    "\n",
    "# Random bir örnek seçme ve görseli gösterme\n",
    "random_sample = final_test_df.sample(n=1).iloc[0]\n",
    "sample_path = random_sample['Filepaths']\n",
    "sample_label = random_sample['Labels']\n",
    "sample_img = plt.imread(sample_path)\n",
    "\n",
    "# Görseli gösterme\n",
    "plt.imshow(sample_img, cmap='gray')\n",
    "plt.text(10, 10, f'Görsel ismi: {os.path.basename(sample_path)}', color='white', fontsize=12, bbox=dict(facecolor='black', alpha=0.5))\n",
    "plt.axis('off')\n",
    "plt.show()\n",
    "\n",
    "if sample_img is not None:\n",
    "    # Görseli yeniden boyutlandırma ve boyutları kontrol etme\n",
    "    sample_img_resized = cv2.resize(sample_img, (224, 224))  # ResNet50V2 modeline uygun boyut\n",
    "    sample_img_normalized = sample_img_resized / 255.0  # Normalizasyon\n",
    "    \n",
    "    # Gri tonlamalı görüntüyü 3 kanallı hale getirme\n",
    "    if len(sample_img_normalized.shape) == 2:  # Görüntü gri tonlamalıysa\n",
    "        sample_img_normalized = np.stack((sample_img_normalized,)*3, axis=-1)\n",
    "        \n",
    "    sample_img_expanded = np.expand_dims(sample_img_normalized, axis=0)  # Batch boyutunu ekleme\n",
    "\n",
    "    # Boyutları kontrol etme\n",
    "    print(f\"Resized image shape: {sample_img_resized.shape}\")\n",
    "    print(f\"Expanded image shape: {sample_img_expanded.shape}\")\n",
    "\n",
    "    # Model Tahmini\n",
    "    prediction = model.predict(sample_img_expanded)  # Burada batch boyutunu kullanıyoruz\n",
    "    class_names = ['CNV', 'DME', 'DRUSEN', 'HEALTY']\n",
    "    predicted_class = np.argmax(prediction)\n",
    "    predicted_label = class_names[predicted_class]\n",
    "\n",
    "    # Tahmin sonucunu gösterme\n",
    "    plt.imshow(sample_img_resized, cmap='gray')\n",
    "    plt.title(f'Tahmin Sonucu: {predicted_label}')\n",
    "    plt.axis('off')\n",
    "    plt.show()\n",
    "else:\n",
    "    print(\"Görsel okunamadı.\")\n"
   ]
  }
 ],
 "metadata": {
  "language_info": {
   "name": "python"
  }
 },
 "nbformat": 4,
 "nbformat_minor": 2
}
