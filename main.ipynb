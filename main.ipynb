{
 "cells": [
  {
   "cell_type": "code",
   "execution_count": 2,
   "metadata": {},
   "outputs": [],
   "source": [
    "# import system libs\n",
    "import os\n",
    "import cv2\n",
    "import numpy as np\n",
    "import pandas as pd\n",
    "import seaborn as sns\n",
    "import random\n",
    "import matplotlib.pyplot as plt\n",
    "from sklearn.model_selection import train_test_split\n",
    "from sklearn.metrics import confusion_matrix, classification_report\n",
    "import tensorflow as tf\n",
    "from tensorflow.python.keras.models import Sequential\n",
    "from tensorflow.keras.preprocessing.image import ImageDataGenerator\n",
    "from tensorflow.keras.layers import Conv2D, MaxPooling2D, Flatten, Dense, Activation, Dropout, BatchNormalization\n",
    "from tensorflow.keras.utils import image_dataset_from_directory\n",
    "from PIL import Image\n"
   ]
  },
  {
   "cell_type": "code",
   "execution_count": 6,
   "metadata": {},
   "outputs": [],
   "source": [
    "data_dir = \"C:\\\\Users\\\\Esma Betül KOCAAHMET\\\\Pycharm\\\\Retina_Optik_Disc\\\\retina_optic_disc\""
   ]
  },
  {
   "cell_type": "code",
   "execution_count": 5,
   "metadata": {},
   "outputs": [
    {
     "name": "stdout",
     "output_type": "stream",
     "text": [
      "Train Directory -->  ['healty', 'unhealty']\n",
      "Validation Directory -->  ['healty', 'unhealty']\n",
      "Test Directory -->  ['healty', 'unhealty']\n"
     ]
    }
   ],
   "source": [
    "train_dir = os.path.join(data_dir  + \"\\\\train/\")\n",
    "print(\"Train Directory --> \", os.listdir(train_dir))\n",
    "\n",
    "validation_dir = os.path.join(data_dir  + \"\\\\val/\")\n",
    "print(\"Validation Directory --> \", os.listdir(validation_dir))\n",
    "\n",
    "test_dir = os.path.join(data_dir  + \"\\\\test/\")\n",
    "\n",
    "print(\"Test Directory --> \", os.listdir(test_dir))"
   ]
  },
  {
   "cell_type": "code",
   "execution_count": 4,
   "metadata": {},
   "outputs": [],
   "source": [
    "data_dir = \"C:\\\\Users\\\\Esma Betül KOCAAHMET\\\\Pycharm\\\\Retina_Optik_Disc\\\\retina_optic_disc\"\n",
    "\n",
    "def create_dataframe(data_path):\n",
    "    filepaths = [] \n",
    "    labels = [] \n",
    "\n",
    "    # Ana klasördeki alt klasörleri (folds) listeleme\n",
    "    folds = os.listdir(data_path)\n",
    "    for fold in folds:\n",
    "        # Alt klasördeki görüntülerin yollarını almak için yol oluşturma\n",
    "        f_path = os.path.join(data_path, fold)\n",
    "        imgs = os.listdir(f_path)  # Alt klasördeki görüntüleri listeleme\n",
    "\n",
    "        # Her görüntü için dosya yolunu ve sınıf etiketini ekleme\n",
    "        for img in imgs:\n",
    "            img_path = os.path.join(f_path, img)  # Görselin tam dosya yolunu oluşturma\n",
    "            filepaths.append(img_path)  # Görselin yolunu listeye ekleme\n",
    "            labels.append(fold)         # Görselin etiketini listeye ekleme\n",
    "    \n",
    "    # Dosya yolları ve etiketlerin pandas Series'e dönüştürülmesi\n",
    "    fseries = pd.Series(filepaths, name='Filepaths')\n",
    "    lseries = pd.Series(labels, name='Labels')\n",
    "\n",
    "    # İki seriyi birleştirip bir DataFrame olarak döndürme\n",
    "    return pd.concat([fseries, lseries], axis=1)\n",
    "\n",
    "retina_df = create_dataframe(data_dir)"
   ]
  },
  {
   "cell_type": "code",
   "execution_count": 16,
   "metadata": {},
   "outputs": [],
   "source": [
    "\n",
    "def prepare_image(folder, target=(124,124), quality=85):\n",
    "    for file in os.listdir(folder):\n",
    "        if file.endswith(\".jpeg\"):\n",
    "            image_path = os.path.join(folder, file)\n",
    "            with Image.open(image_path) as image:\n",
    "                resized_image = image.resize(target)\n",
    "                # Sıkıştırma seviyesini 85 olarak belirleyip kaydet\n",
    "                resized_image.save(image_path, quality=quality)\n",
    "\n",
    "folder = \"C:\\\\Users\\\\Esma Betül KOCAAHMET\\\\Pycharm\\\\Retina_Optik_Disc\\\\retina_optic_disc\"\n",
    "prepare_image(folder)"
   ]
  },
  {
   "cell_type": "code",
   "execution_count": 7,
   "metadata": {},
   "outputs": [],
   "source": [
    "#def prepare_image (folder_path, target=(124,124),quality=85):\n",
    " #   for file in os.listdir(folder_path):\n",
    "  #      if \".jpeg\" in folder_path:\n",
    "   #         image_path = os.path.join(folder_path,file)\n",
    "    #        with Image.open(image_path) as image:\n",
    "     #           resized_image = image.resize(target)\n",
    "      #          resized_image.save(image_path)\n",
    "\n",
    "    \n",
    "#folder_path = \"C:\\\\Users\\\\Esma Betül KOCAAHMET\\\\Pycharm\\\\Retina_Optik_Disc\\\\retina_optic_disc\"\n",
    "#prepare_image(folder_path)"
   ]
  },
  {
   "cell_type": "code",
   "execution_count": 48,
   "metadata": {},
   "outputs": [],
   "source": [
    "#def prepare_image(image, target):\n",
    "\t# giriş görüntüsünü yeniden boyutlandırma ve ön işlemerin yapılması\n",
    "#\timage = Image.open(image_path)\n",
    "#\timage = image.resize(target)\n",
    "#\timage = img_to_array(image)\n",
    "#\timage = np.expand_dims(image, axis=0)\n",
    "#\timage = imagenet_utils.preprocess_input(image)\n",
    "\n",
    "\t# işlenmiş görüntüyü alma\n",
    "\t\n",
    "#\treturn image\n",
    "\n",
    "#prepare_image(train_dir, target=(124,124))\n",
    "#prepare_image(validation_dir, target=(124,124))\n",
    "#prepare_image(test_dir, target=(124,124))\n",
    "# Merhaba dünya"
   ]
  }
 ],
 "metadata": {
  "kernelspec": {
   "display_name": "Python 3",
   "language": "python",
   "name": "python3"
  },
  "language_info": {
   "codemirror_mode": {
    "name": "ipython",
    "version": 3
   },
   "file_extension": ".py",
   "mimetype": "text/x-python",
   "name": "python",
   "nbconvert_exporter": "python",
   "pygments_lexer": "ipython3",
   "version": "3.12.3"
  }
 },
 "nbformat": 4,
 "nbformat_minor": 2
}
