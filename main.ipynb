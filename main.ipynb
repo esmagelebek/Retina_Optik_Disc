{
 "cells": [
  {
   "cell_type": "code",
   "execution_count": 17,
   "metadata": {},
   "outputs": [],
   "source": [
    "# import system libs\n",
    "import os\n",
    "import cv2\n",
    "import numpy as np\n",
    "import pandas as pd\n",
    "import seaborn as sns\n",
    "import random\n",
    "import matplotlib.pyplot as plt\n",
    "from sklearn.model_selection import train_test_split\n",
    "from sklearn.metrics import confusion_matrix, classification_report\n",
    "import tensorflow as tf\n",
    "from tensorflow.python.keras.models import Sequential\n",
    "from tensorflow.keras.preprocessing.image import ImageDataGenerator\n",
    "from tensorflow.keras.layers import Conv2D, MaxPooling2D, Flatten, Dense, Activation, Dropout, BatchNormalization\n",
    "from tensorflow.keras.utils import image_dataset_from_directory\n",
    "from PIL import Image\n"
   ]
  },
  {
   "cell_type": "code",
   "execution_count": 7,
   "metadata": {},
   "outputs": [],
   "source": [
    "data_dir = \"C:\\\\Users\\\\Esma Betül KOCAAHMET\\\\Desktop\\\\retina_optic_disc\""
   ]
  },
  {
   "cell_type": "code",
   "execution_count": 12,
   "metadata": {},
   "outputs": [
    {
     "name": "stdout",
     "output_type": "stream",
     "text": [
      "Train Directory -->  ['healty', 'unhealty']\n",
      "Validation Directory -->  ['healty', 'unhealty']\n",
      "Test Directory -->  ['healty', 'unhealty']\n"
     ]
    }
   ],
   "source": [
    "train_dir = os.path.join(data_dir  + \"\\\\train/\")\n",
    "print(\"Train Directory --> \", os.listdir(train_dir))\n",
    "\n",
    "validation_dir = os.path.join(data_dir  + \"\\\\val/\")\n",
    "print(\"Validation Directory --> \", os.listdir(validation_dir))\n",
    "\n",
    "test_dir = os.path.join(data_dir  + \"\\\\test/\")\n",
    "print(\"Test Directory --> \", os.listdir(test_dir))"
   ]
  },
  {
   "cell_type": "code",
   "execution_count": 18,
   "metadata": {},
   "outputs": [],
   "source": [
    "#def prepare_image(image, target):\n",
    "\t# giriş görüntüsünü yeniden boyutlandırma ve ön işlemerin yapılması\n",
    "#\timage = Image.open(image_path)\n",
    "#\timage = image.resize(target)\n",
    "#\timage = img_to_array(image)\n",
    "#\timage = np.expand_dims(image, axis=0)\n",
    "#\timage = imagenet_utils.preprocess_input(image)\n",
    "\n",
    "\t# işlenmiş görüntüyü alma\n",
    "\t\n",
    "#\treturn image\n",
    "\n",
    "#prepare_image(train_dir, target=(124,124))\n",
    "#prepare_image(validation_dir, target=(124,124))\n",
    "#prepare_image(test_dir, target=(124,124))\n",
    "# Merhaba dünya"
   ]
  }
 ],
 "metadata": {
  "kernelspec": {
   "display_name": "Python 3",
   "language": "python",
   "name": "python3"
  },
  "language_info": {
   "codemirror_mode": {
    "name": "ipython",
    "version": 3
   },
   "file_extension": ".py",
   "mimetype": "text/x-python",
   "name": "python",
   "nbconvert_exporter": "python",
   "pygments_lexer": "ipython3",
   "version": "3.12.3"
  }
 },
 "nbformat": 4,
 "nbformat_minor": 2
}
