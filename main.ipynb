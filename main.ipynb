{
 "cells": [
  {
   "cell_type": "code",
   "execution_count": null,
   "metadata": {},
   "outputs": [],
   "source": [
    "# # import system libs\n",
    "# import os\n",
    "# import cv2\n",
    "# import numpy as np\n",
    "# import pandas as pd\n",
    "# import seaborn as sns\n",
    "# import random\n",
    "# import matplotlib.pyplot as plt\n",
    "# from sklearn.model_selection import train_test_split\n",
    "# from sklearn.metrics import confusion_matrix, classification_report\n",
    "# import tensorflow as tf\n",
    "# from tensorflow.python.keras.models import Sequential\n",
    "# from tensorflow.keras.preprocessing.image import ImageDataGenerator\n",
    "# from tensorflow.keras.layers import Conv2D, MaxPooling2D, Flatten, Dense, Activation, Dropout, BatchNormalization\n",
    "# from tensorflow.keras.utils import image_dataset_from_directory\n",
    "# from PIL import Image\n"
   ]
  },
  {
   "cell_type": "code",
   "execution_count": null,
   "metadata": {},
   "outputs": [],
   "source": [
    "# data_dir = \"C:\\\\Users\\\\Esma Betül KOCAAHMET\\\\Pycharm\\\\Retina_Optik_Disc\\\\retina_optic_disc\""
   ]
  },
  {
   "cell_type": "code",
   "execution_count": 15,
   "metadata": {},
   "outputs": [],
   "source": [
    "# train_dir = os.path.join(data_dir  + \"\\\\train/\")\n",
    "# print(\"Train Directory --> \", os.listdir(train_dir))\n",
    "\n",
    "# validation_dir = os.path.join(data_dir  + \"\\\\val/\")\n",
    "# print(\"Validation Directory --> \", os.listdir(validation_dir))\n",
    "\n",
    "# test_dir = os.path.join(data_dir  + \"\\\\test/\")\n",
    "\n",
    "# print(\"Test Directory --> \", os.listdir(test_dir))"
   ]
  },
  {
   "cell_type": "code",
   "execution_count": 14,
   "metadata": {},
   "outputs": [],
   "source": [
    "# data_dir = \"C:\\\\Users\\\\Esma Betül KOCAAHMET\\\\Pycharm\\\\Retina_Optik_Disc\\\\retina_optic_disc\"\n",
    "\n",
    "# def create_dataframe(data_path):\n",
    "#     filepaths = [] \n",
    "#     labels = [] \n",
    "\n",
    "#     # Ana klasördeki alt klasörleri (folds) listeleme\n",
    "#     folds = os.listdir(data_path)\n",
    "#     for fold in folds:\n",
    "#         # Alt klasördeki görüntülerin yollarını almak için yol oluşturma\n",
    "#         f_path = os.path.join(data_path, fold)\n",
    "#         imgs = os.listdir(f_path)  # Alt klasördeki görüntüleri listeleme\n",
    "\n",
    "#         # Her görüntü için dosya yolunu ve sınıf etiketini ekleme\n",
    "#         for img in imgs:\n",
    "#             img_path = os.path.join(f_path, img)  # Görselin tam dosya yolunu oluşturma\n",
    "#             filepaths.append(img_path)  # Görselin yolunu listeye ekleme\n",
    "#             labels.append(fold)         # Görselin etiketini listeye ekleme\n",
    "    \n",
    "#     # Dosya yolları ve etiketlerin pandas Series'e dönüştürülmesi\n",
    "#     fseries = pd.Series(filepaths, name='Filepaths')\n",
    "#     lseries = pd.Series(labels, name='Labels')\n",
    "\n",
    "#     # İki seriyi birleştirip bir DataFrame olarak döndürme\n",
    "#     return pd.concat([fseries, lseries], axis=1)\n",
    "\n",
    "# train_retina_df = create_dataframe(train_dir)\n",
    "# validation_retina_df = create_dataframe(validation_dir)\n",
    "# test_retina_df = create_dataframe(test_dir)\n",
    "\n",
    "# print(train_retina_df)\n",
    "# print(test_retina_df)\n",
    "# print(validation_retina_df)\n",
    "\n",
    "\n"
   ]
  },
  {
   "cell_type": "code",
   "execution_count": 13,
   "metadata": {},
   "outputs": [],
   "source": [
    "# final_df = pd.concat([retina_df],ignore_index=True)\n",
    "# final_df"
   ]
  },
  {
   "cell_type": "code",
   "execution_count": null,
   "metadata": {},
   "outputs": [],
   "source": [
    "\n",
    "# def prepare_image(folder, target=(224,224)):\n",
    "#     for file in os.listdir(folder):\n",
    "#         file_path = os.path.join(folder, file)\n",
    "#         if os.path.isfile(file_path): \n",
    "#           print(f\"{file} is a file.\")\n",
    "#         if file.lower().endswith((\".jpeg\", \".jpg\", \".png\")):\n",
    "#              print(f\"{file} has a valid image extension.\")\n",
    "#              image_path = os.path.join(folder, file)\n",
    "#              try:\n",
    "#                with Image.open(image_path) as image:\n",
    "#                 print(f\"Original size: {image.size}\")\n",
    "#                 resized_image = image.resize(target)\n",
    "#                 resized_image.save(image_path)\n",
    "#                 print(f\"Resized size: {resized_image.size}\")\n",
    "#              except Exception as e: \n",
    "#                print(f\"Error processing file {file}: {e}\")\n",
    "             \n",
    "               \n",
    "# train_healty_df = \"retina_optic_disc\\\\test\\\\healty\"\n",
    "# train_unhealty_df = \"retina_optic_disc\\\\test\\\\unhealty\"\n",
    "# validation_healty_df = \"retina_optic_disc\\\\val\\\\healty\"\n",
    "# validation_unhealty_df = \"retina_optic_disc\\\\val\\\\unhealty\"\n",
    "# test_retina_df =\"retina_optic_disc\\\\test\"\n",
    "\n",
    "# prepare_image(train_retina_df)\n",
    "# prepare_image(validation_retina_df)\n",
    "# prepare_image(test_retina_df)"
   ]
  },
  {
   "cell_type": "code",
   "execution_count": 12,
   "metadata": {},
   "outputs": [],
   "source": [
    "# def resize_images_in_folder(folder_path, target=(124,124)):\n",
    "#     for root, dirs, files in os.walk(folder_path):\n",
    "#         for file in files:\n",
    "#          print(f\"Checking file: {file}\")\n",
    "#         if file.lower().endswith((\".jpeg\", \".jpg\", \".png\")):\n",
    "#             print(f\"Processing file: {file}\")\n",
    "#             image_path = os.path.join(root, file)\n",
    "#             print(f\"Image path: {image_path}\")\n",
    "#             try:\n",
    "#              with Image.open(image_path) as image:\n",
    "#                 print(f\"Original size: {image.size}\")\n",
    "#                 resized_image = image.resize(target)\n",
    "#                 resized_image.save(image_path)\n",
    "#                 print(f\"Resized size: {resized_image.size}\")\n",
    "#             except Exception as e: \n",
    "#                print(f\"Error processing file {file}: {e}\")\n",
    "\n",
    "# train_retina_df = \"C:\\\\Users\\\\Esma Betül KOCAAHMET\\\\Pycharm\\\\Retina_Optik_Disc\\\\retina_optic_disc\\\\train\"\n",
    "# validation_retina_df = \"C:\\\\Users\\\\Esma Betül KOCAAHMET\\\\Pycharm\\\\Retina_Optik_Disc\\\\retina_optic_disc\\\\val\"\n",
    "# test_retina_df = \"C:\\\\Users\\\\Esma Betül KOCAAHMET\\\\Pycharm\\\\Retina_Optik_Disc\\\\retina_optic_disc\\\\test\"\n",
    "   \n",
    "# #folder_path = \"C:\\\\Users\\\\Esma Betül KOCAAHMET\\\\Pycharm\\\\Retina_Optik_Disc\\\\retina_optic_disc\"\n",
    "# resize_images_in_folder(train_retina_df)\n",
    "# resize_images_in_folder(validation_retina_df)\n",
    "# resize_images_in_folder(test_retina_df)"
   ]
  },
  {
   "cell_type": "code",
   "execution_count": 48,
   "metadata": {},
   "outputs": [],
   "source": [
    "#def prepare_image(image, target):\n",
    "\t# giriş görüntüsünü yeniden boyutlandırma ve ön işlemerin yapılması\n",
    "#\timage = Image.open(image_path)\n",
    "#\timage = image.resize(target)\n",
    "#\timage = img_to_array(image)\n",
    "#\timage = np.expand_dims(image, axis=0)\n",
    "#\timage = imagenet_utils.preprocess_input(image)\n",
    "\n",
    "\t# işlenmiş görüntüyü alma\n",
    "\t\n",
    "#\treturn image\n",
    "\n",
    "#prepare_image(train_dir, target=(124,124))\n",
    "#prepare_image(validation_dir, target=(124,124))\n",
    "#prepare_image(test_dir, target=(124,124))\n",
    "# Merhaba dünya"
   ]
  }
 ],
 "metadata": {
  "kernelspec": {
   "display_name": "Python 3",
   "language": "python",
   "name": "python3"
  },
  "language_info": {
   "codemirror_mode": {
    "name": "ipython",
    "version": 3
   },
   "file_extension": ".py",
   "mimetype": "text/x-python",
   "name": "python",
   "nbconvert_exporter": "python",
   "pygments_lexer": "ipython3",
   "version": "3.12.3"
  }
 },
 "nbformat": 4,
 "nbformat_minor": 2
}
