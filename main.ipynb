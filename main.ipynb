{
 "cells": [
  {
   "cell_type": "code",
   "execution_count": 1,
   "metadata": {},
   "outputs": [],
   "source": [
    "# import system libs\n",
    "import os\n",
    "import cv2\n",
    "import numpy as np\n",
    "import pandas as pd\n",
    "import seaborn as sns\n",
    "import random\n",
    "import matplotlib.pyplot as plt\n",
    "from sklearn.model_selection import train_test_split\n",
    "from sklearn.metrics import confusion_matrix, classification_report\n",
    "import tensorflow as tf\n",
    "from tensorflow.python.keras.models import Sequential\n",
    "from tensorflow.keras.preprocessing.image import ImageDataGenerator\n",
    "from tensorflow.keras.layers import Conv2D, MaxPooling2D, Flatten, Dense, Activation, Dropout, BatchNormalization\n",
    "from tensorflow.keras.utils import image_dataset_from_directory\n",
    "from PIL import Image\n"
   ]
  },
  {
   "cell_type": "code",
   "execution_count": 2,
   "metadata": {},
   "outputs": [],
   "source": [
    "data_dir = \"C:\\\\Users\\\\Esma Betül KOCAAHMET\\\\Pycharm\\\\Retina_Optik_Disc\\\\retina_optic_disc\""
   ]
  },
  {
   "cell_type": "code",
   "execution_count": 3,
   "metadata": {},
   "outputs": [
    {
     "name": "stdout",
     "output_type": "stream",
     "text": [
      "Train Directory -->  ['healty', 'unhealty']\n",
      "Validation Directory -->  ['healty', 'unhealty']\n",
      "Test Directory -->  ['healty', 'unhealty']\n"
     ]
    }
   ],
   "source": [
    "train_dir = os.path.join(data_dir  + \"\\\\train/\")\n",
    "print(\"Train Directory --> \", os.listdir(train_dir))\n",
    "\n",
    "validation_dir = os.path.join(data_dir  + \"\\\\val/\")\n",
    "print(\"Validation Directory --> \", os.listdir(validation_dir))\n",
    "\n",
    "test_dir = os.path.join(data_dir  + \"\\\\test/\")\n",
    "\n",
    "print(\"Test Directory --> \", os.listdir(test_dir))"
   ]
  },
  {
   "cell_type": "code",
   "execution_count": 23,
   "metadata": {},
   "outputs": [],
   "source": [
    "data_dir = \"C:\\\\Users\\\\Esma Betül KOCAAHMET\\\\Pycharm\\\\Retina_Optik_Disc\\\\retina_optic_disc\"\n",
    "\n",
    "def create_dataframe(data_path):\n",
    "    filepaths = [] \n",
    "    labels = [] \n",
    "\n",
    "    # Ana klasördeki alt klasörleri (folds) listeleme\n",
    "    folds = os.listdir(data_path)\n",
    "    for fold in folds:\n",
    "        # Alt klasördeki görüntülerin yollarını almak için yol oluşturma\n",
    "        f_path = os.path.join(data_path, fold)\n",
    "        imgs = os.listdir(f_path)  # Alt klasördeki görüntüleri listeleme\n",
    "\n",
    "        # Her görüntü için dosya yolunu ve sınıf etiketini ekleme\n",
    "        for img in imgs:\n",
    "            img_path = os.path.join(f_path, img)  # Görselin tam dosya yolunu oluşturma\n",
    "            filepaths.append(img_path)  # Görselin yolunu listeye ekleme\n",
    "            labels.append(fold)         # Görselin etiketini listeye ekleme\n",
    "    \n",
    "    # Dosya yolları ve etiketlerin pandas Series'e dönüştürülmesi\n",
    "    fseries = pd.Series(filepaths, name='Filepaths')\n",
    "    lseries = pd.Series(labels, name='Labels')\n",
    "\n",
    "    # İki seriyi birleştirip bir DataFrame olarak döndürme\n",
    "    return pd.concat([fseries, lseries], axis=1)\n",
    "\n",
    "retina_df = create_dataframe(data_dir)"
   ]
  },
  {
   "cell_type": "code",
   "execution_count": 24,
   "metadata": {},
   "outputs": [
    {
     "data": {
      "text/html": [
       "<div>\n",
       "<style scoped>\n",
       "    .dataframe tbody tr th:only-of-type {\n",
       "        vertical-align: middle;\n",
       "    }\n",
       "\n",
       "    .dataframe tbody tr th {\n",
       "        vertical-align: top;\n",
       "    }\n",
       "\n",
       "    .dataframe thead th {\n",
       "        text-align: right;\n",
       "    }\n",
       "</style>\n",
       "<table border=\"1\" class=\"dataframe\">\n",
       "  <thead>\n",
       "    <tr style=\"text-align: right;\">\n",
       "      <th></th>\n",
       "      <th>Filepaths</th>\n",
       "      <th>Labels</th>\n",
       "    </tr>\n",
       "  </thead>\n",
       "  <tbody>\n",
       "    <tr>\n",
       "      <th>0</th>\n",
       "      <td>C:\\Users\\Esma Betül KOCAAHMET\\Pycharm\\Retina_O...</td>\n",
       "      <td>test</td>\n",
       "    </tr>\n",
       "    <tr>\n",
       "      <th>1</th>\n",
       "      <td>C:\\Users\\Esma Betül KOCAAHMET\\Pycharm\\Retina_O...</td>\n",
       "      <td>test</td>\n",
       "    </tr>\n",
       "    <tr>\n",
       "      <th>2</th>\n",
       "      <td>C:\\Users\\Esma Betül KOCAAHMET\\Pycharm\\Retina_O...</td>\n",
       "      <td>train</td>\n",
       "    </tr>\n",
       "    <tr>\n",
       "      <th>3</th>\n",
       "      <td>C:\\Users\\Esma Betül KOCAAHMET\\Pycharm\\Retina_O...</td>\n",
       "      <td>train</td>\n",
       "    </tr>\n",
       "    <tr>\n",
       "      <th>4</th>\n",
       "      <td>C:\\Users\\Esma Betül KOCAAHMET\\Pycharm\\Retina_O...</td>\n",
       "      <td>val</td>\n",
       "    </tr>\n",
       "    <tr>\n",
       "      <th>5</th>\n",
       "      <td>C:\\Users\\Esma Betül KOCAAHMET\\Pycharm\\Retina_O...</td>\n",
       "      <td>val</td>\n",
       "    </tr>\n",
       "  </tbody>\n",
       "</table>\n",
       "</div>"
      ],
      "text/plain": [
       "                                           Filepaths Labels\n",
       "0  C:\\Users\\Esma Betül KOCAAHMET\\Pycharm\\Retina_O...   test\n",
       "1  C:\\Users\\Esma Betül KOCAAHMET\\Pycharm\\Retina_O...   test\n",
       "2  C:\\Users\\Esma Betül KOCAAHMET\\Pycharm\\Retina_O...  train\n",
       "3  C:\\Users\\Esma Betül KOCAAHMET\\Pycharm\\Retina_O...  train\n",
       "4  C:\\Users\\Esma Betül KOCAAHMET\\Pycharm\\Retina_O...    val\n",
       "5  C:\\Users\\Esma Betül KOCAAHMET\\Pycharm\\Retina_O...    val"
      ]
     },
     "execution_count": 24,
     "metadata": {},
     "output_type": "execute_result"
    }
   ],
   "source": [
    "final_df = pd.concat([retina_df],ignore_index=True)\n",
    "final_df"
   ]
  },
  {
   "cell_type": "code",
   "execution_count": null,
   "metadata": {},
   "outputs": [],
   "source": []
  },
  {
   "cell_type": "code",
   "execution_count": 25,
   "metadata": {},
   "outputs": [],
   "source": [
    "\n",
    "def prepare_image(folder, target=(124,124), quality=85):\n",
    "    for file in os.listdir(folder):\n",
    "        if \".jpeg\" in file:\n",
    "            image_path = os.path.join(folder, file)\n",
    "            with Image.open(image_path) as image:\n",
    "                resized_image = image.resize(target)\n",
    "                # Sıkıştırma seviyesini 85 olarak belirleyip kaydet\n",
    "                resized_image.save(image_path, quality=quality)\n",
    "                print(f\"{file} - Original size: {image.size}, Resized size: {resized_image.size}\")\n",
    "\n",
    "folder = \"C:\\\\Users\\\\Esma Betül KOCAAHMET\\\\Pycharm\\\\Retina_Optik_Disc\\\\retina_optic_disc\"\n",
    "prepare_image(folder)"
   ]
  },
  {
   "cell_type": "code",
   "execution_count": 27,
   "metadata": {},
   "outputs": [
    {
     "ename": "UnboundLocalError",
     "evalue": "cannot access local variable 'file' where it is not associated with a value",
     "output_type": "error",
     "traceback": [
      "\u001b[1;31m---------------------------------------------------------------------------\u001b[0m",
      "\u001b[1;31mUnboundLocalError\u001b[0m                         Traceback (most recent call last)",
      "Cell \u001b[1;32mIn[27], line 20\u001b[0m\n\u001b[0;32m     16\u001b[0m                \u001b[38;5;28mprint\u001b[39m(\u001b[38;5;124mf\u001b[39m\u001b[38;5;124m\"\u001b[39m\u001b[38;5;124mError processing file \u001b[39m\u001b[38;5;132;01m{\u001b[39;00mfile\u001b[38;5;132;01m}\u001b[39;00m\u001b[38;5;124m: \u001b[39m\u001b[38;5;132;01m{\u001b[39;00me\u001b[38;5;132;01m}\u001b[39;00m\u001b[38;5;124m\"\u001b[39m)\n\u001b[0;32m     19\u001b[0m folder_path \u001b[38;5;241m=\u001b[39m \u001b[38;5;124m\"\u001b[39m\u001b[38;5;124mC:\u001b[39m\u001b[38;5;130;01m\\\\\u001b[39;00m\u001b[38;5;124mUsers\u001b[39m\u001b[38;5;130;01m\\\\\u001b[39;00m\u001b[38;5;124mEsma Betül KOCAAHMET\u001b[39m\u001b[38;5;130;01m\\\\\u001b[39;00m\u001b[38;5;124mPycharm\u001b[39m\u001b[38;5;130;01m\\\\\u001b[39;00m\u001b[38;5;124mRetina_Optik_Disc\u001b[39m\u001b[38;5;130;01m\\\\\u001b[39;00m\u001b[38;5;124mretina_optic_disc\u001b[39m\u001b[38;5;124m\"\u001b[39m\n\u001b[1;32m---> 20\u001b[0m \u001b[43mresize_images_in_folder\u001b[49m\u001b[43m(\u001b[49m\u001b[43mfolder_path\u001b[49m\u001b[43m)\u001b[49m\n",
      "Cell \u001b[1;32mIn[27], line 5\u001b[0m, in \u001b[0;36mresize_images_in_folder\u001b[1;34m(folder_path, target)\u001b[0m\n\u001b[0;32m      3\u001b[0m \u001b[38;5;28;01mfor\u001b[39;00m file \u001b[38;5;129;01min\u001b[39;00m files:\n\u001b[0;32m      4\u001b[0m  \u001b[38;5;28mprint\u001b[39m(\u001b[38;5;124mf\u001b[39m\u001b[38;5;124m\"\u001b[39m\u001b[38;5;124mChecking file: \u001b[39m\u001b[38;5;132;01m{\u001b[39;00mfile\u001b[38;5;132;01m}\u001b[39;00m\u001b[38;5;124m\"\u001b[39m)\n\u001b[1;32m----> 5\u001b[0m \u001b[38;5;28;01mif\u001b[39;00m \u001b[43mfile\u001b[49m\u001b[38;5;241m.\u001b[39mlower()\u001b[38;5;241m.\u001b[39mendswith((\u001b[38;5;124m\"\u001b[39m\u001b[38;5;124m.jpeg\u001b[39m\u001b[38;5;124m\"\u001b[39m, \u001b[38;5;124m\"\u001b[39m\u001b[38;5;124m.jpg\u001b[39m\u001b[38;5;124m\"\u001b[39m, \u001b[38;5;124m\"\u001b[39m\u001b[38;5;124m.png\u001b[39m\u001b[38;5;124m\"\u001b[39m)):\n\u001b[0;32m      6\u001b[0m     \u001b[38;5;28mprint\u001b[39m(\u001b[38;5;124mf\u001b[39m\u001b[38;5;124m\"\u001b[39m\u001b[38;5;124mProcessing file: \u001b[39m\u001b[38;5;132;01m{\u001b[39;00mfile\u001b[38;5;132;01m}\u001b[39;00m\u001b[38;5;124m\"\u001b[39m)\n\u001b[0;32m      7\u001b[0m     image_path \u001b[38;5;241m=\u001b[39m os\u001b[38;5;241m.\u001b[39mpath\u001b[38;5;241m.\u001b[39mjoin(root, file)\n",
      "\u001b[1;31mUnboundLocalError\u001b[0m: cannot access local variable 'file' where it is not associated with a value"
     ]
    }
   ],
   "source": [
    "def resize_images_in_folder(folder_path, target=(124,124)):\n",
    "    for root, dirs, files in os.walk(folder_path):\n",
    "        for file in files:\n",
    "         print(f\"Checking file: {file}\")\n",
    "        if file.lower().endswith((\".jpeg\", \".jpg\", \".png\")):\n",
    "            print(f\"Processing file: {file}\")\n",
    "            image_path = os.path.join(root, file)\n",
    "            print(f\"Image path: {image_path}\")\n",
    "            try:\n",
    "             with Image.open(image_path) as image:\n",
    "                print(f\"Original size: {image.size}\")\n",
    "                resized_image = image.resize(target)\n",
    "                resized_image.save(image_path)\n",
    "                print(f\"Resized size: {resized_image.size}\")\n",
    "            except Exception as e: \n",
    "               print(f\"Error processing file {file}: {e}\")\n",
    "\n",
    "    \n",
    "folder_path = \"C:\\\\Users\\\\Esma Betül KOCAAHMET\\\\Pycharm\\\\Retina_Optik_Disc\\\\retina_optic_disc\"\n",
    "resize_images_in_folder(folder_path)"
   ]
  },
  {
   "cell_type": "code",
   "execution_count": 48,
   "metadata": {},
   "outputs": [],
   "source": [
    "#def prepare_image(image, target):\n",
    "\t# giriş görüntüsünü yeniden boyutlandırma ve ön işlemerin yapılması\n",
    "#\timage = Image.open(image_path)\n",
    "#\timage = image.resize(target)\n",
    "#\timage = img_to_array(image)\n",
    "#\timage = np.expand_dims(image, axis=0)\n",
    "#\timage = imagenet_utils.preprocess_input(image)\n",
    "\n",
    "\t# işlenmiş görüntüyü alma\n",
    "\t\n",
    "#\treturn image\n",
    "\n",
    "#prepare_image(train_dir, target=(124,124))\n",
    "#prepare_image(validation_dir, target=(124,124))\n",
    "#prepare_image(test_dir, target=(124,124))\n",
    "# Merhaba dünya"
   ]
  }
 ],
 "metadata": {
  "kernelspec": {
   "display_name": "Python 3",
   "language": "python",
   "name": "python3"
  },
  "language_info": {
   "codemirror_mode": {
    "name": "ipython",
    "version": 3
   },
   "file_extension": ".py",
   "mimetype": "text/x-python",
   "name": "python",
   "nbconvert_exporter": "python",
   "pygments_lexer": "ipython3",
   "version": "3.12.3"
  }
 },
 "nbformat": 4,
 "nbformat_minor": 2
}
